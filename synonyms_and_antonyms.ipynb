{
 "cells": [
  {
   "cell_type": "code",
   "execution_count": 1,
   "id": "bronze-visiting",
   "metadata": {},
   "outputs": [],
   "source": [
    "#importing wordnet\n",
    "from nltk.corpus import wordnet"
   ]
  },
  {
   "cell_type": "code",
   "execution_count": 2,
   "id": "aware-demonstration",
   "metadata": {},
   "outputs": [],
   "source": [
    "synonyms = []\n",
    "antonyms = []"
   ]
  },
  {
   "cell_type": "code",
   "execution_count": 3,
   "id": "legal-deposit",
   "metadata": {},
   "outputs": [
    {
     "data": {
      "text/plain": [
       "[Synset('good.n.01'),\n",
       " Synset('good.n.02'),\n",
       " Synset('good.n.03'),\n",
       " Synset('commodity.n.01'),\n",
       " Synset('good.a.01'),\n",
       " Synset('full.s.06'),\n",
       " Synset('good.a.03'),\n",
       " Synset('estimable.s.02'),\n",
       " Synset('beneficial.s.01'),\n",
       " Synset('good.s.06'),\n",
       " Synset('good.s.07'),\n",
       " Synset('adept.s.01'),\n",
       " Synset('good.s.09'),\n",
       " Synset('dear.s.02'),\n",
       " Synset('dependable.s.04'),\n",
       " Synset('good.s.12'),\n",
       " Synset('good.s.13'),\n",
       " Synset('effective.s.04'),\n",
       " Synset('good.s.15'),\n",
       " Synset('good.s.16'),\n",
       " Synset('good.s.17'),\n",
       " Synset('good.s.18'),\n",
       " Synset('good.s.19'),\n",
       " Synset('good.s.20'),\n",
       " Synset('good.s.21'),\n",
       " Synset('well.r.01'),\n",
       " Synset('thoroughly.r.02')]"
      ]
     },
     "execution_count": 3,
     "metadata": {},
     "output_type": "execute_result"
    }
   ],
   "source": [
    "#to get synsets from wordnet by passing a word\n",
    "wordnet.synsets(\"good\")  #this will give us all possible synsets for good \n",
    "#note here in good.n.01 n means noun synset\n",
    "#good.a.01 a is adjective and so on"
   ]
  },
  {
   "cell_type": "code",
   "execution_count": 5,
   "id": "official-franchise",
   "metadata": {},
   "outputs": [
    {
     "data": {
      "text/plain": [
       "['good',\n",
       " 'good',\n",
       " 'goodness',\n",
       " 'good',\n",
       " 'goodness',\n",
       " 'commodity',\n",
       " 'trade_good',\n",
       " 'good',\n",
       " 'good',\n",
       " 'full',\n",
       " 'good',\n",
       " 'good',\n",
       " 'estimable',\n",
       " 'good',\n",
       " 'honorable',\n",
       " 'respectable',\n",
       " 'beneficial',\n",
       " 'good',\n",
       " 'good',\n",
       " 'good',\n",
       " 'just',\n",
       " 'upright',\n",
       " 'adept',\n",
       " 'expert',\n",
       " 'good',\n",
       " 'practiced',\n",
       " 'proficient',\n",
       " 'skillful',\n",
       " 'skilful',\n",
       " 'good',\n",
       " 'dear',\n",
       " 'good',\n",
       " 'near',\n",
       " 'dependable',\n",
       " 'good',\n",
       " 'safe',\n",
       " 'secure',\n",
       " 'good',\n",
       " 'right',\n",
       " 'ripe',\n",
       " 'good',\n",
       " 'well',\n",
       " 'effective',\n",
       " 'good',\n",
       " 'in_effect',\n",
       " 'in_force',\n",
       " 'good',\n",
       " 'good',\n",
       " 'serious',\n",
       " 'good',\n",
       " 'sound',\n",
       " 'good',\n",
       " 'salutary',\n",
       " 'good',\n",
       " 'honest',\n",
       " 'good',\n",
       " 'undecomposed',\n",
       " 'unspoiled',\n",
       " 'unspoilt',\n",
       " 'good',\n",
       " 'well',\n",
       " 'good',\n",
       " 'thoroughly',\n",
       " 'soundly',\n",
       " 'good',\n",
       " 'good',\n",
       " 'good',\n",
       " 'goodness',\n",
       " 'good',\n",
       " 'goodness',\n",
       " 'commodity',\n",
       " 'trade_good',\n",
       " 'good',\n",
       " 'good',\n",
       " 'full',\n",
       " 'good',\n",
       " 'good',\n",
       " 'estimable',\n",
       " 'good',\n",
       " 'honorable',\n",
       " 'respectable',\n",
       " 'beneficial',\n",
       " 'good',\n",
       " 'good',\n",
       " 'good',\n",
       " 'just',\n",
       " 'upright',\n",
       " 'adept',\n",
       " 'expert',\n",
       " 'good',\n",
       " 'practiced',\n",
       " 'proficient',\n",
       " 'skillful',\n",
       " 'skilful',\n",
       " 'good',\n",
       " 'dear',\n",
       " 'good',\n",
       " 'near',\n",
       " 'dependable',\n",
       " 'good',\n",
       " 'safe',\n",
       " 'secure',\n",
       " 'good',\n",
       " 'right',\n",
       " 'ripe',\n",
       " 'good',\n",
       " 'well',\n",
       " 'effective',\n",
       " 'good',\n",
       " 'in_effect',\n",
       " 'in_force',\n",
       " 'good',\n",
       " 'good',\n",
       " 'serious',\n",
       " 'good',\n",
       " 'sound',\n",
       " 'good',\n",
       " 'salutary',\n",
       " 'good',\n",
       " 'honest',\n",
       " 'good',\n",
       " 'undecomposed',\n",
       " 'unspoiled',\n",
       " 'unspoilt',\n",
       " 'good',\n",
       " 'well',\n",
       " 'good',\n",
       " 'thoroughly',\n",
       " 'soundly',\n",
       " 'good']"
      ]
     },
     "execution_count": 5,
     "metadata": {},
     "output_type": "execute_result"
    }
   ],
   "source": [
    "#now for each of the different synsets we are going to get all the different words in those synsets\n",
    "for syn in wordnet.synsets(\"good\"):\n",
    "    for s in syn.lemmas(): #lemmas will give all the words in that corresponding synset\n",
    "        synonyms.append(s.name()) #s.name() will return word name\n",
    "\n",
    "synonyms\n",
    "#note it contains synonyms but it also contains repetitions so we are going to remove duplicates"
   ]
  },
  {
   "cell_type": "code",
   "execution_count": 6,
   "id": "closing-milton",
   "metadata": {},
   "outputs": [
    {
     "name": "stdout",
     "output_type": "stream",
     "text": [
      "{'honorable', 'expert', 'effective', 'in_effect', 'proficient', 'just', 'well', 'good', 'dear', 'near', 'trade_good', 'upright', 'practiced', 'skillful', 'estimable', 'ripe', 'sound', 'skilful', 'in_force', 'full', 'serious', 'unspoiled', 'honest', 'beneficial', 'unspoilt', 'secure', 'safe', 'adept', 'dependable', 'salutary', 'respectable', 'thoroughly', 'right', 'undecomposed', 'soundly', 'commodity', 'goodness'}\n"
     ]
    }
   ],
   "source": [
    "print(set(synonyms)) #set is a distict collection of elements"
   ]
  },
  {
   "cell_type": "code",
   "execution_count": 8,
   "id": "unlike-subsection",
   "metadata": {},
   "outputs": [
    {
     "name": "stdout",
     "output_type": "stream",
     "text": [
      "{'evilness', 'ill', 'evil', 'bad', 'badness'}\n"
     ]
    }
   ],
   "source": [
    "#now for antonyms\n",
    "for syn in wordnet.synsets(\"good\"):\n",
    "    for s in syn.lemmas():\n",
    "        for a in s.antonyms(): #it will call antonym function on all the words in synset it will find if for each\n",
    "#of the word if it contains ant antonyms\n",
    "            antonyms.append(a.name())\n",
    "    \n",
    "print(set(antonyms)) #to remove duplicates"
   ]
  }
 ],
 "metadata": {
  "kernelspec": {
   "display_name": "Python 3",
   "language": "python",
   "name": "python3"
  },
  "language_info": {
   "codemirror_mode": {
    "name": "ipython",
    "version": 3
   },
   "file_extension": ".py",
   "mimetype": "text/x-python",
   "name": "python",
   "nbconvert_exporter": "python",
   "pygments_lexer": "ipython3",
   "version": "3.8.6"
  },
  "varInspector": {
   "cols": {
    "lenName": 16,
    "lenType": 16,
    "lenVar": 40
   },
   "kernels_config": {
    "python": {
     "delete_cmd_postfix": "",
     "delete_cmd_prefix": "del ",
     "library": "var_list.py",
     "varRefreshCmd": "print(var_dic_list())"
    },
    "r": {
     "delete_cmd_postfix": ") ",
     "delete_cmd_prefix": "rm(",
     "library": "var_list.r",
     "varRefreshCmd": "cat(var_dic_list()) "
    }
   },
   "types_to_exclude": [
    "module",
    "function",
    "builtin_function_or_method",
    "instance",
    "_Feature"
   ],
   "window_display": false
  }
 },
 "nbformat": 4,
 "nbformat_minor": 5
}
