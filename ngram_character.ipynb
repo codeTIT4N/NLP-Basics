{
 "cells": [
  {
   "cell_type": "code",
   "execution_count": 25,
   "id": "about-estate",
   "metadata": {},
   "outputs": [],
   "source": [
    "import random \n",
    "#to get random numbers"
   ]
  },
  {
   "cell_type": "code",
   "execution_count": 26,
   "id": "sufficient-reception",
   "metadata": {},
   "outputs": [
    {
     "data": {
      "text/plain": [
       "'Global warming or climate change has become a worldwide concern. It is gradually developing into an unprecedented environmental crisis evident in melting glaciers, changing weather patterns, rising sea levels, floods, cyclones and droughts. Global warming implies an increase in the average temperature of the Earth due to entrapment of greenhouse gases in the earth’s atmosphere.'"
      ]
     },
     "execution_count": 26,
     "metadata": {},
     "output_type": "execute_result"
    }
   ],
   "source": [
    "#Data\n",
    "text = \"\"\"Global warming or climate change has become a worldwide concern. It is gradually developing into an unprecedented environmental crisis evident in melting glaciers, changing weather patterns, rising sea levels, floods, cyclones and droughts. Global warming implies an increase in the average temperature of the Earth due to entrapment of greenhouse gases in the earth’s atmosphere.\"\"\"\n",
    "\n",
    "text"
   ]
  },
  {
   "cell_type": "code",
   "execution_count": 27,
   "id": "shaped-genealogy",
   "metadata": {},
   "outputs": [],
   "source": [
    "n=3 #considering trigrams only"
   ]
  },
  {
   "cell_type": "code",
   "execution_count": 28,
   "id": "binding-adventure",
   "metadata": {},
   "outputs": [],
   "source": [
    "ngrams = {}"
   ]
  },
  {
   "cell_type": "code",
   "execution_count": 29,
   "id": "subsequent-marine",
   "metadata": {},
   "outputs": [
    {
     "name": "stdout",
     "output_type": "stream",
     "text": [
      "{'Glo': ['b', 'b'], 'lob': ['a', 'a'], 'oba': ['l', 'l'], 'bal': [' ', ' '], 'al ': ['w', 'c', 'w'], 'l w': ['a', 'a'], ' wa': ['r', 'r'], 'war': ['m', 'm'], 'arm': ['i', 'i'], 'rmi': ['n', 'n'], 'min': ['g', 'g'], 'ing': [' ', ' ', ' ', ' ', ' ', ' '], 'ng ': ['o', 'i', 'g', 'w', 's', 'i'], 'g o': ['r'], ' or': [' '], 'or ': ['c'], 'r c': ['l'], ' cl': ['i'], 'cli': ['m'], 'lim': ['a'], 'ima': ['t'], 'mat': ['e'], 'ate': [' '], 'te ': ['c'], 'e c': ['h', 'o'], ' ch': ['a', 'a'], 'cha': ['n', 'n'], 'han': ['g', 'g'], 'ang': ['e', 'i'], 'nge': [' '], 'ge ': ['h', 't'], 'e h': ['a'], ' ha': ['s'], 'has': [' '], 'as ': ['b'], 's b': ['e'], ' be': ['c'], 'bec': ['o'], 'eco': ['m'], 'com': ['e'], 'ome': [' '], 'me ': ['a'], 'e a': [' ', 'v'], ' a ': ['w'], 'a w': ['o'], ' wo': ['r'], 'wor': ['l'], 'orl': ['d'], 'rld': ['w'], 'ldw': ['i'], 'dwi': ['d'], 'wid': ['e'], 'ide': [' ', 'n'], 'de ': ['c'], ' co': ['n'], 'con': ['c'], 'onc': ['e'], 'nce': ['r'], 'cer': ['n'], 'ern': ['.', 's'], 'rn.': [' '], 'n. ': ['I'], '. I': ['t'], ' It': [' '], 'It ': ['i'], 't i': ['s', 'n'], ' is': [' '], 'is ': ['g', 'e'], 's g': ['r'], ' gr': ['a', 'e'], 'gra': ['d'], 'rad': ['u'], 'adu': ['a'], 'dua': ['l'], 'ual': ['l'], 'all': ['y'], 'lly': [' '], 'ly ': ['d'], 'y d': ['e'], ' de': ['v'], 'dev': ['e'], 'eve': ['l', 'l'], 'vel': ['o', 's'], 'elo': ['p'], 'lop': ['i'], 'opi': ['n'], 'pin': ['g'], 'g i': ['n', 'm'], ' in': ['t', ' ', 'c', ' ', ' '], 'int': ['o'], 'nto': [' '], 'to ': ['a', 'e'], 'o a': ['n'], ' an': [' ', 'd', ' '], 'an ': ['u', 'i'], 'n u': ['n'], ' un': ['p'], 'unp': ['r'], 'npr': ['e'], 'pre': ['c'], 'rec': ['e'], 'ece': ['d'], 'ced': ['e'], 'ede': ['n'], 'den': ['t', 't'], 'ent': ['e', 'a', ' ', 'r', ' '], 'nte': ['d'], 'ted': [' '], 'ed ': ['e'], 'd e': ['n'], ' en': ['v', 't'], 'env': ['i'], 'nvi': ['r'], 'vir': ['o'], 'iro': ['n'], 'ron': ['m'], 'onm': ['e'], 'nme': ['n'], 'men': ['t', 't'], 'nta': ['l'], 'tal': [' '], 'l c': ['r'], ' cr': ['i'], 'cri': ['s'], 'ris': ['i', 'i'], 'isi': ['s', 'n'], 'sis': [' '], 's e': ['v'], ' ev': ['i'], 'evi': ['d'], 'vid': ['e'], 'nt ': ['i', 'o'], 'in ': ['m', 't', 't'], 'n m': ['e'], ' me': ['l'], 'mel': ['t'], 'elt': ['i'], 'lti': ['n'], 'tin': ['g'], 'g g': ['l'], ' gl': ['a'], 'gla': ['c'], 'lac': ['i'], 'aci': ['e'], 'cie': ['r'], 'ier': ['s'], 'ers': [','], 'rs,': [' '], 's, ': ['c', 'r', 'f', 'c'], ', c': ['h', 'y'], 'ngi': ['n'], 'gin': ['g'], 'g w': ['e'], ' we': ['a'], 'wea': ['t'], 'eat': ['h'], 'ath': ['e'], 'the': ['r', ' ', ' ', ' '], 'her': [' ', 'e'], 'er ': ['p'], 'r p': ['a'], ' pa': ['t'], 'pat': ['t'], 'att': ['e'], 'tte': ['r'], 'ter': ['n'], 'rns': [','], 'ns,': [' '], ', r': ['i'], ' ri': ['s'], 'sin': ['g'], 'g s': ['e'], ' se': ['a'], 'sea': [' '], 'ea ': ['l'], 'a l': ['e'], ' le': ['v'], 'lev': ['e'], 'els': [','], 'ls,': [' '], ', f': ['l'], ' fl': ['o'], 'flo': ['o'], 'loo': ['d'], 'ood': ['s'], 'ods': [','], 'ds,': [' '], ' cy': ['c'], 'cyc': ['l'], 'ycl': ['o'], 'clo': ['n'], 'lon': ['e'], 'one': ['s'], 'nes': [' '], 'es ': ['a', 'a', 'i'], 's a': ['n', 'n', 't'], 'and': [' '], 'nd ': ['d'], 'd d': ['r'], ' dr': ['o'], 'dro': ['u'], 'rou': ['g'], 'oug': ['h'], 'ugh': ['t'], 'ght': ['s'], 'hts': ['.'], 'ts.': [' '], 's. ': ['G'], '. G': ['l'], ' Gl': ['o'], ' im': ['p'], 'imp': ['l'], 'mpl': ['i'], 'pli': ['e'], 'lie': ['s'], 'ies': [' '], 'n i': ['n'], 'inc': ['r'], 'ncr': ['e'], 'cre': ['a'], 'rea': ['s'], 'eas': ['e'], 'ase': [' ', 's'], 'se ': ['i', 'g'], 'e i': ['n'], 'n t': ['h', 'h'], ' th': ['e', 'e', 'e'], 'he ': ['a', 'E', 'e'], ' av': ['e'], 'ave': ['r'], 'ver': ['a'], 'era': ['g', 't'], 'rag': ['e'], 'age': [' '], 'e t': ['e', 'o'], ' te': ['m'], 'tem': ['p'], 'emp': ['e'], 'mpe': ['r'], 'per': ['a'], 'rat': ['u'], 'atu': ['r'], 'tur': ['e'], 'ure': [' '], 're ': ['o'], 'e o': ['f'], ' of': [' ', ' '], 'of ': ['t', 'g'], 'f t': ['h'], 'e E': ['a'], ' Ea': ['r'], 'Ear': ['t'], 'art': ['h', 'h'], 'rth': [' ', '’'], 'th ': ['d'], 'h d': ['u'], ' du': ['e'], 'due': [' '], 'ue ': ['t'], ' to': [' '], 'o e': ['n'], 'ntr': ['a'], 'tra': ['p'], 'rap': ['m'], 'apm': ['e'], 'pme': ['n'], 't o': ['f'], 'f g': ['r'], 'gre': ['e'], 'ree': ['n'], 'een': ['h'], 'enh': ['o'], 'nho': ['u'], 'hou': ['s'], 'ous': ['e'], 'use': [' '], 'e g': ['a'], ' ga': ['s'], 'gas': ['e'], 'ses': [' '], 's i': ['n'], 'e e': ['a'], ' ea': ['r'], 'ear': ['t'], 'th’': ['s'], 'h’s': [' '], '’s ': ['a'], ' at': ['m'], 'atm': ['o'], 'tmo': ['s'], 'mos': ['p'], 'osp': ['h'], 'sph': ['e'], 'phe': ['r'], 'ere': ['.']}\n"
     ]
    }
   ],
   "source": [
    "#Creating the n-gram\n",
    "#looping\n",
    "for i in range(len(text)-n):\n",
    "    gram = text[i:i+n]#so when we are looping through this sentence in each iteration we are going to find a trigram\n",
    "    if gram not in ngrams.keys(): #we are going to check wheather this word is in the dictionary or not if not add it\n",
    "        ngrams[gram] = []\n",
    "    ngrams[gram].append(text[i+n])\n",
    "\n",
    "print(ngrams)"
   ]
  },
  {
   "cell_type": "code",
   "execution_count": 30,
   "id": "covered-provider",
   "metadata": {},
   "outputs": [
    {
     "data": {
      "text/plain": [
       "'Global crising or climate concerns, floods, changing glaciers, rising sea levels, floods, risis gradual'"
      ]
     },
     "execution_count": 30,
     "metadata": {},
     "output_type": "execute_result"
    }
   ],
   "source": [
    "#Testing our N-gram model\n",
    "#We need to start at a specific place like what google does when you type something it takes that as the starting ngram\n",
    "#so we will give our model a trigram and then we will use that trigram to find what can be the next character\n",
    "#so essentially we are making our own prediction system\n",
    "currentGram = text[0:n] #here we are setting the first n characters as starting point i.e., \"Glo\"\n",
    "result = currentGram\n",
    "for i in range(100): #i am going to generate a string with a length of 100 using this n-gram model\n",
    "    if currentGram not in ngrams.keys():\n",
    "        break #if the current gram specified is not in the n-gram list then we should stop predicting.\n",
    "    possibilities = ngrams[currentGram] #this would be the list of all the characters that follows the currentGram\n",
    "    nextItem = possibilities[random.randrange(len(possibilities))]   \n",
    "    result += nextItem #apending new item to the result\n",
    "    currentGram = result[len(result)-n:len(result)] #this is specifying that new gram are the last n characters\n",
    "                                                        #from this result string\n",
    "\n",
    "#using random library randrange function which will return us a random element from that list example \n",
    "#random.randrange(5) will return a number between 0-5 which will be used as ana index\n",
    "    \n",
    "result\n",
    "#here we are pretty much generating word that mean nothins but its working now to make it accurate we can increase\n",
    "#the value of n it will give us better results\n"
   ]
  },
  {
   "cell_type": "code",
   "execution_count": 33,
   "id": "palestinian-moisture",
   "metadata": {},
   "outputs": [
    {
     "name": "stdout",
     "output_type": "stream",
     "text": [
      "Global warming or climate change has become a worldwide concern. It is gradually developing into an unpreceden\n"
     ]
    }
   ],
   "source": [
    "#Testing with bigger n values\n",
    "text = \"\"\"Global warming or climate change has become a worldwide concern. It is gradually developing into an unprecedented environmental crisis evident in melting glaciers, changing weather patterns, rising sea levels, floods, cyclones and droughts. Global warming implies an increase in the average temperature of the Earth due to entrapment of greenhouse gases in the earth’s atmosphere.\"\"\"\n",
    "n = 10\n",
    "ngrams = {}\n",
    "for i in range(len(text)-n):\n",
    "    gram = text[i:i+n]\n",
    "    if gram not in ngrams.keys():\n",
    "        ngrams[gram] = []\n",
    "    ngrams[gram].append(text[i+n])\n",
    "        \n",
    "currentGram = text[0:n]\n",
    "result = currentGram\n",
    "for i in range(100):\n",
    "    if currentGram not in ngrams.keys():\n",
    "        break\n",
    "    possibilities = ngrams[currentGram]\n",
    "    nextItem = possibilities[random.randrange(len(possibilities))]\n",
    "    result += nextItem\n",
    "    currentGram = result[len(result)-n:len(result)]\n",
    "  \n",
    "print(result)\n",
    "#its a little better but not the best i.e., it is still not giving us the exact sentence but its pretty close"
   ]
  }
 ],
 "metadata": {
  "kernelspec": {
   "display_name": "Python 3",
   "language": "python",
   "name": "python3"
  },
  "language_info": {
   "codemirror_mode": {
    "name": "ipython",
    "version": 3
   },
   "file_extension": ".py",
   "mimetype": "text/x-python",
   "name": "python",
   "nbconvert_exporter": "python",
   "pygments_lexer": "ipython3",
   "version": "3.8.6"
  },
  "varInspector": {
   "cols": {
    "lenName": 16,
    "lenType": 16,
    "lenVar": 40
   },
   "kernels_config": {
    "python": {
     "delete_cmd_postfix": "",
     "delete_cmd_prefix": "del ",
     "library": "var_list.py",
     "varRefreshCmd": "print(var_dic_list())"
    },
    "r": {
     "delete_cmd_postfix": ") ",
     "delete_cmd_prefix": "rm(",
     "library": "var_list.r",
     "varRefreshCmd": "cat(var_dic_list()) "
    }
   },
   "types_to_exclude": [
    "module",
    "function",
    "builtin_function_or_method",
    "instance",
    "_Feature"
   ],
   "window_display": false
  }
 },
 "nbformat": 4,
 "nbformat_minor": 5
}
