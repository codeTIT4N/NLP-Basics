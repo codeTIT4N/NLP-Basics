{
 "cells": [
  {
   "cell_type": "code",
   "execution_count": 1,
   "id": "developing-convergence",
   "metadata": {},
   "outputs": [
    {
     "name": "stdout",
     "output_type": "stream",
     "text": [
      "Thank you all so very much. Thank you to the Academy. Thank you to all of you in this room. \n",
      "I have to congratulate the other incredible nominees this year. The Revenant was the product of the tireless \n",
      "efforts of an unbelievable cast and crew. First off, to my brother in this endeavor, Mr. Tom Hardy. Tom, your \n",
      "talent on screen can only be surpassed by your friendship off screen … thank you for creating a transcendent \n",
      "cinematic experience. Thank you to everybody at Fox and New Regency … my entire team. I have to thank everyone \n",
      "from the very onset of my career … To my parents; none of this would be possible without you. And to my friends, \n",
      "I love you dearly; you know who you are.And lastly, I just want to say this: Making The Revenant was about man's \n",
      "relationship to the natural world. A world that we collectively felt in 2015 as the hottest year in recorded history. \n",
      "Our production needed to move to the southern tip of this planet just to be able to find snow. Climate change is real, \n",
      "it is happening right now. It is the most urgent threat facing our entire species, and we need to work collectively \n",
      "together and stop procrastinating. We need to support leaders around the world who do not speak for the big polluters,\n",
      "but who speak for all of humanity, for the indigenous people of the world, for the billions and billions of \n",
      "underprivileged people out there who would be most affected by this. For our children’s children, and for those \n",
      "people out there whose voices have been drowned out by the politics of greed. I thank you all for this amazing award \n",
      "tonight. Let us not take this planet for granted. I do not take tonight for granted. Thank you so very much.\n"
     ]
    }
   ],
   "source": [
    "import nltk\n",
    "paragraph = \"\"\"Thank you all so very much. Thank you to the Academy. Thank you to all of you in this room. \n",
    "I have to congratulate the other incredible nominees this year. The Revenant was the product of the tireless \n",
    "efforts of an unbelievable cast and crew. First off, to my brother in this endeavor, Mr. Tom Hardy. Tom, your \n",
    "talent on screen can only be surpassed by your friendship off screen … thank you for creating a transcendent \n",
    "cinematic experience. Thank you to everybody at Fox and New Regency … my entire team. I have to thank everyone \n",
    "from the very onset of my career … To my parents; none of this would be possible without you. And to my friends, \n",
    "I love you dearly; you know who you are.And lastly, I just want to say this: Making The Revenant was about man's \n",
    "relationship to the natural world. A world that we collectively felt in 2015 as the hottest year in recorded history. \n",
    "Our production needed to move to the southern tip of this planet just to be able to find snow. Climate change is real, \n",
    "it is happening right now. It is the most urgent threat facing our entire species, and we need to work collectively \n",
    "together and stop procrastinating. We need to support leaders around the world who do not speak for the big polluters,\n",
    "but who speak for all of humanity, for the indigenous people of the world, for the billions and billions of \n",
    "underprivileged people out there who would be most affected by this. For our children’s children, and for those \n",
    "people out there whose voices have been drowned out by the politics of greed. I thank you all for this amazing award \n",
    "tonight. Let us not take this planet for granted. I do not take tonight for granted. Thank you so very much.\"\"\"\n",
    "#note this is how you store multiline strings/ comments in python\n",
    "print(paragraph)"
   ]
  },
  {
   "cell_type": "code",
   "execution_count": 2,
   "id": "talented-carolina",
   "metadata": {
    "scrolled": true
   },
   "outputs": [
    {
     "name": "stderr",
     "output_type": "stream",
     "text": [
      "[nltk_data] Downloading package stopwords to\n",
      "[nltk_data]     /Users/lokeshkumar/nltk_data...\n",
      "[nltk_data]   Package stopwords is already up-to-date!\n"
     ]
    },
    {
     "data": {
      "text/plain": [
       "True"
      ]
     },
     "execution_count": 2,
     "metadata": {},
     "output_type": "execute_result"
    }
   ],
   "source": [
    "#stop words are like to,in,my,is,etc and these words have almost no meaning when it comes to extracting features\n",
    "#out of sentences. so we will remove them. So for example if you are doing sentiment analysis then these words\n",
    "#will have no impact on sentiments (i.e., they can be in negative as well as positive sentences).\n",
    "nltk.download('stopwords')\n",
    "#so we didn't really needed to do this as we already had but just in case\n",
    "#its hust a good practies as nltk keeps updating its database of stop words so you will stay updated"
   ]
  },
  {
   "cell_type": "code",
   "execution_count": 3,
   "id": "vanilla-weight",
   "metadata": {},
   "outputs": [],
   "source": [
    "from nltk.corpus import stopwords\n",
    "#here we are importing corpous object to use stop words\n",
    "#this will give us all stopwords"
   ]
  },
  {
   "cell_type": "code",
   "execution_count": 4,
   "id": "modular-electron",
   "metadata": {
    "scrolled": true
   },
   "outputs": [
    {
     "name": "stdout",
     "output_type": "stream",
     "text": [
      "['Thank you all so very much.', 'Thank you to the Academy.', 'Thank you to all of you in this room.', 'I have to congratulate the other incredible nominees this year.', 'The Revenant was the product of the tireless \\nefforts of an unbelievable cast and crew.', 'First off, to my brother in this endeavor, Mr. Tom Hardy.', 'Tom, your \\ntalent on screen can only be surpassed by your friendship off screen … thank you for creating a transcendent \\ncinematic experience.', 'Thank you to everybody at Fox and New Regency … my entire team.', 'I have to thank everyone \\nfrom the very onset of my career … To my parents; none of this would be possible without you.', \"And to my friends, \\nI love you dearly; you know who you are.And lastly, I just want to say this: Making The Revenant was about man's \\nrelationship to the natural world.\", 'A world that we collectively felt in 2015 as the hottest year in recorded history.', 'Our production needed to move to the southern tip of this planet just to be able to find snow.', 'Climate change is real, \\nit is happening right now.', 'It is the most urgent threat facing our entire species, and we need to work collectively \\ntogether and stop procrastinating.', 'We need to support leaders around the world who do not speak for the big polluters,\\nbut who speak for all of humanity, for the indigenous people of the world, for the billions and billions of \\nunderprivileged people out there who would be most affected by this.', 'For our children’s children, and for those \\npeople out there whose voices have been drowned out by the politics of greed.', 'I thank you all for this amazing award \\ntonight.', 'Let us not take this planet for granted.', 'I do not take tonight for granted.', 'Thank you so very much.']\n"
     ]
    }
   ],
   "source": [
    "#tokenizing\n",
    "sentences = nltk.sent_tokenize(paragraph)\n",
    "print(sentences)"
   ]
  },
  {
   "cell_type": "code",
   "execution_count": 5,
   "id": "abandoned-midnight",
   "metadata": {},
   "outputs": [
    {
     "name": "stdout",
     "output_type": "stream",
     "text": [
      "['Thank much .', 'Thank Academy .', 'Thank room .', 'I congratulate incredible nominees year .', 'The Revenant product tireless efforts unbelievable cast crew .', 'First , brother endeavor , Mr. Tom Hardy .', 'Tom , talent screen surpassed friendship screen … thank creating transcendent cinematic experience .', 'Thank everybody Fox New Regency … entire team .', 'I thank everyone onset career … To parents ; none would possible without .', \"And friends , I love dearly ; know are.And lastly , I want say : Making The Revenant man 's relationship natural world .\", 'A world collectively felt 2015 hottest year recorded history .', 'Our production needed move southern tip planet able find snow .', 'Climate change real , happening right .', 'It urgent threat facing entire species , need work collectively together stop procrastinating .', 'We need support leaders around world speak big polluters , speak humanity , indigenous people world , billions billions underprivileged people would affected .', 'For children ’ children , people whose voices drowned politics greed .', 'I thank amazing award tonight .', 'Let us take planet granted .', 'I take tonight granted .', 'Thank much .']\n"
     ]
    }
   ],
   "source": [
    "#removing stopwords\n",
    "for i in range(len(sentences)):\n",
    "    words = nltk.word_tokenize(sentences[i])\n",
    "    newwords = [word for word in words if word not in stopwords.words('english')]  \n",
    "    #this means if the word is not a stop word only then append that word to newwords list\n",
    "    sentences[i] = ' '.join(newwords)\n",
    "\n",
    "print(sentences)\n",
    "#now you can see stopwords are removed"
   ]
  }
 ],
 "metadata": {
  "kernelspec": {
   "display_name": "Python 3",
   "language": "python",
   "name": "python3"
  },
  "language_info": {
   "codemirror_mode": {
    "name": "ipython",
    "version": 3
   },
   "file_extension": ".py",
   "mimetype": "text/x-python",
   "name": "python",
   "nbconvert_exporter": "python",
   "pygments_lexer": "ipython3",
   "version": "3.8.6"
  },
  "varInspector": {
   "cols": {
    "lenName": 16,
    "lenType": 16,
    "lenVar": 40
   },
   "kernels_config": {
    "python": {
     "delete_cmd_postfix": "",
     "delete_cmd_prefix": "del ",
     "library": "var_list.py",
     "varRefreshCmd": "print(var_dic_list())"
    },
    "r": {
     "delete_cmd_postfix": ") ",
     "delete_cmd_prefix": "rm(",
     "library": "var_list.r",
     "varRefreshCmd": "cat(var_dic_list()) "
    }
   },
   "types_to_exclude": [
    "module",
    "function",
    "builtin_function_or_method",
    "instance",
    "_Feature"
   ],
   "window_display": false
  }
 },
 "nbformat": 4,
 "nbformat_minor": 5
}
