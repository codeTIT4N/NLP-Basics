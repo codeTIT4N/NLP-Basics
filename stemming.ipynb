{
 "cells": [
  {
   "cell_type": "code",
   "execution_count": 4,
   "id": "fancy-remove",
   "metadata": {},
   "outputs": [],
   "source": [
    "import nltk"
   ]
  },
  {
   "cell_type": "code",
   "execution_count": 5,
   "id": "binding-swaziland",
   "metadata": {},
   "outputs": [
    {
     "name": "stdout",
     "output_type": "stream",
     "text": [
      "Thank you all so very much. Thank you to the Academy. Thank you to all of you in this room. \n",
      "I have to congratulate the other incredible nominees this year. The Revenant was the product of the tireless \n",
      "efforts of an unbelievable cast and crew. First off, to my brother in this endeavor, Mr. Tom Hardy. Tom, your \n",
      "talent on screen can only be surpassed by your friendship off screen … thank you for creating a transcendent \n",
      "cinematic experience. Thank you to everybody at Fox and New Regency … my entire team. I have to thank everyone \n",
      "from the very onset of my career … To my parents; none of this would be possible without you. And to my friends, \n",
      "I love you dearly; you know who you are.And lastly, I just want to say this: Making The Revenant was about man's \n",
      "relationship to the natural world. A world that we collectively felt in 2015 as the hottest year in recorded history. \n",
      "Our production needed to move to the southern tip of this planet just to be able to find snow. Climate change is real, \n",
      "it is happening right now. It is the most urgent threat facing our entire species, and we need to work collectively \n",
      "together and stop procrastinating. We need to support leaders around the world who do not speak for the big polluters,\n",
      "but who speak for all of humanity, for the indigenous people of the world, for the billions and billions of \n",
      "underprivileged people out there who would be most affected by this. For our children’s children, and for those \n",
      "people out there whose voices have been drowned out by the politics of greed. I thank you all for this amazing award \n",
      "tonight. Let us not take this planet for granted. I do not take tonight for granted. Thank you so very much.\n"
     ]
    }
   ],
   "source": [
    "paragraph = \"\"\"Thank you all so very much. Thank you to the Academy. Thank you to all of you in this room. \n",
    "I have to congratulate the other incredible nominees this year. The Revenant was the product of the tireless \n",
    "efforts of an unbelievable cast and crew. First off, to my brother in this endeavor, Mr. Tom Hardy. Tom, your \n",
    "talent on screen can only be surpassed by your friendship off screen … thank you for creating a transcendent \n",
    "cinematic experience. Thank you to everybody at Fox and New Regency … my entire team. I have to thank everyone \n",
    "from the very onset of my career … To my parents; none of this would be possible without you. And to my friends, \n",
    "I love you dearly; you know who you are.And lastly, I just want to say this: Making The Revenant was about man's \n",
    "relationship to the natural world. A world that we collectively felt in 2015 as the hottest year in recorded history. \n",
    "Our production needed to move to the southern tip of this planet just to be able to find snow. Climate change is real, \n",
    "it is happening right now. It is the most urgent threat facing our entire species, and we need to work collectively \n",
    "together and stop procrastinating. We need to support leaders around the world who do not speak for the big polluters,\n",
    "but who speak for all of humanity, for the indigenous people of the world, for the billions and billions of \n",
    "underprivileged people out there who would be most affected by this. For our children’s children, and for those \n",
    "people out there whose voices have been drowned out by the politics of greed. I thank you all for this amazing award \n",
    "tonight. Let us not take this planet for granted. I do not take tonight for granted. Thank you so very much.\"\"\"\n",
    "#note this is how you store multiline strings/ comments in python\n",
    "print(paragraph)"
   ]
  },
  {
   "cell_type": "code",
   "execution_count": 6,
   "id": "outdoor-theta",
   "metadata": {},
   "outputs": [],
   "source": [
    "#to do stemming we need to import a class from nltk.package\n",
    "from nltk.stem import PorterStemmer #note this is how you import class from a package in python"
   ]
  },
  {
   "cell_type": "code",
   "execution_count": 7,
   "id": "sixth-lewis",
   "metadata": {},
   "outputs": [
    {
     "data": {
      "text/plain": [
       "['Thank you all so very much.',\n",
       " 'Thank you to the Academy.',\n",
       " 'Thank you to all of you in this room.',\n",
       " 'I have to congratulate the other incredible nominees this year.',\n",
       " 'The Revenant was the product of the tireless \\nefforts of an unbelievable cast and crew.',\n",
       " 'First off, to my brother in this endeavor, Mr. Tom Hardy.',\n",
       " 'Tom, your \\ntalent on screen can only be surpassed by your friendship off screen … thank you for creating a transcendent \\ncinematic experience.',\n",
       " 'Thank you to everybody at Fox and New Regency … my entire team.',\n",
       " 'I have to thank everyone \\nfrom the very onset of my career … To my parents; none of this would be possible without you.',\n",
       " \"And to my friends, \\nI love you dearly; you know who you are.And lastly, I just want to say this: Making The Revenant was about man's \\nrelationship to the natural world.\",\n",
       " 'A world that we collectively felt in 2015 as the hottest year in recorded history.',\n",
       " 'Our production needed to move to the southern tip of this planet just to be able to find snow.',\n",
       " 'Climate change is real, \\nit is happening right now.',\n",
       " 'It is the most urgent threat facing our entire species, and we need to work collectively \\ntogether and stop procrastinating.',\n",
       " 'We need to support leaders around the world who do not speak for the big polluters,\\nbut who speak for all of humanity, for the indigenous people of the world, for the billions and billions of \\nunderprivileged people out there who would be most affected by this.',\n",
       " 'For our children’s children, and for those \\npeople out there whose voices have been drowned out by the politics of greed.',\n",
       " 'I thank you all for this amazing award \\ntonight.',\n",
       " 'Let us not take this planet for granted.',\n",
       " 'I do not take tonight for granted.',\n",
       " 'Thank you so very much.']"
      ]
     },
     "execution_count": 7,
     "metadata": {},
     "output_type": "execute_result"
    }
   ],
   "source": [
    "#before we do stemming we need to do some tokenization\n",
    "sentences = nltk.sent_tokenize(paragraph)\n",
    "sentences"
   ]
  },
  {
   "cell_type": "code",
   "execution_count": 8,
   "id": "social-slope",
   "metadata": {},
   "outputs": [],
   "source": [
    "#now we are going to create an object of the PorterStemmer class\n",
    "stemmer = PorterStemmer() #creating objects in python"
   ]
  },
  {
   "cell_type": "code",
   "execution_count": 9,
   "id": "heard-spirit",
   "metadata": {},
   "outputs": [
    {
     "data": {
      "text/plain": [
       "<PorterStemmer>"
      ]
     },
     "execution_count": 9,
     "metadata": {},
     "output_type": "execute_result"
    }
   ],
   "source": [
    "stemmer"
   ]
  },
  {
   "cell_type": "code",
   "execution_count": 10,
   "id": "bacterial-turkey",
   "metadata": {},
   "outputs": [],
   "source": [
    "#Stemming\n",
    "for i in range(len(sentences)):\n",
    "    words = nltk.word_tokenize(sentences[i]) #so for each of the sentences we are going to do word tokenization\n",
    "    newwords = [stemmer.stem(word) for word in words] #note this is a shortcut for creating list in python \n",
    "    #note here stemmer.stem(word) means what is going to be the content of this list\n",
    "    #now this newwords list is going to contain the stemmed version of these words and these word are comming from\n",
    "    #the words list\n",
    "    sentences[i] = ' '.join(newwords) #all the words are joined using a space between them note here the space is\n",
    "                                      #a delimeter"
   ]
  },
  {
   "cell_type": "code",
   "execution_count": 11,
   "id": "recognized-magnitude",
   "metadata": {},
   "outputs": [
    {
     "data": {
      "text/plain": [
       "['thank you all so veri much .',\n",
       " 'thank you to the academi .',\n",
       " 'thank you to all of you in thi room .',\n",
       " 'I have to congratul the other incred nomine thi year .',\n",
       " 'the reven wa the product of the tireless effort of an unbeliev cast and crew .',\n",
       " 'first off , to my brother in thi endeavor , mr. tom hardi .',\n",
       " 'tom , your talent on screen can onli be surpass by your friendship off screen … thank you for creat a transcend cinemat experi .',\n",
       " 'thank you to everybodi at fox and new regenc … my entir team .',\n",
       " 'I have to thank everyon from the veri onset of my career … To my parent ; none of thi would be possibl without you .',\n",
       " \"and to my friend , I love you dearli ; you know who you are.and lastli , I just want to say thi : make the reven wa about man 's relationship to the natur world .\",\n",
       " 'A world that we collect felt in 2015 as the hottest year in record histori .',\n",
       " 'our product need to move to the southern tip of thi planet just to be abl to find snow .',\n",
       " 'climat chang is real , it is happen right now .',\n",
       " 'It is the most urgent threat face our entir speci , and we need to work collect togeth and stop procrastin .',\n",
       " 'We need to support leader around the world who do not speak for the big pollut , but who speak for all of human , for the indigen peopl of the world , for the billion and billion of underprivileg peopl out there who would be most affect by thi .',\n",
       " 'for our children ’ s children , and for those peopl out there whose voic have been drown out by the polit of greed .',\n",
       " 'I thank you all for thi amaz award tonight .',\n",
       " 'let us not take thi planet for grant .',\n",
       " 'I do not take tonight for grant .',\n",
       " 'thank you so veri much .']"
      ]
     },
     "execution_count": 11,
     "metadata": {},
     "output_type": "execute_result"
    }
   ],
   "source": [
    "sentences"
   ]
  }
 ],
 "metadata": {
  "kernelspec": {
   "display_name": "Python 3",
   "language": "python",
   "name": "python3"
  },
  "language_info": {
   "codemirror_mode": {
    "name": "ipython",
    "version": 3
   },
   "file_extension": ".py",
   "mimetype": "text/x-python",
   "name": "python",
   "nbconvert_exporter": "python",
   "pygments_lexer": "ipython3",
   "version": "3.8.6"
  },
  "varInspector": {
   "cols": {
    "lenName": 16,
    "lenType": 16,
    "lenVar": 40
   },
   "kernels_config": {
    "python": {
     "delete_cmd_postfix": "",
     "delete_cmd_prefix": "del ",
     "library": "var_list.py",
     "varRefreshCmd": "print(var_dic_list())"
    },
    "r": {
     "delete_cmd_postfix": ") ",
     "delete_cmd_prefix": "rm(",
     "library": "var_list.r",
     "varRefreshCmd": "cat(var_dic_list()) "
    }
   },
   "types_to_exclude": [
    "module",
    "function",
    "builtin_function_or_method",
    "instance",
    "_Feature"
   ],
   "window_display": false
  }
 },
 "nbformat": 4,
 "nbformat_minor": 5
}
