{
 "cells": [
  {
   "cell_type": "code",
   "execution_count": 3,
   "id": "independent-binding",
   "metadata": {},
   "outputs": [],
   "source": [
    "import nltk"
   ]
  },
  {
   "cell_type": "code",
   "execution_count": 4,
   "id": "optimum-memorial",
   "metadata": {},
   "outputs": [],
   "source": [
    "#every sentence contains a lot of entities like a persons name, name of a place, etc\n",
    "#we are going to extract different entities out of the sentences\n",
    "paragraph = \"The Taj Mahal was built by Emperor Shah Jahan\""
   ]
  },
  {
   "cell_type": "code",
   "execution_count": 5,
   "id": "exotic-retreat",
   "metadata": {},
   "outputs": [
    {
     "data": {
      "text/plain": [
       "['The', 'Taj', 'Mahal', 'was', 'built', 'by', 'Emperor', 'Shah', 'Jahan']"
      ]
     },
     "execution_count": 5,
     "metadata": {},
     "output_type": "execute_result"
    }
   ],
   "source": [
    "#tokenizing this paragraph into words\n",
    "words = nltk.word_tokenize(paragraph)\n",
    "words"
   ]
  },
  {
   "cell_type": "code",
   "execution_count": 6,
   "id": "palestinian-wagner",
   "metadata": {},
   "outputs": [
    {
     "data": {
      "text/plain": [
       "[('The', 'DT'),\n",
       " ('Taj', 'NNP'),\n",
       " ('Mahal', 'NNP'),\n",
       " ('was', 'VBD'),\n",
       " ('built', 'VBN'),\n",
       " ('by', 'IN'),\n",
       " ('Emperor', 'NNP'),\n",
       " ('Shah', 'NNP'),\n",
       " ('Jahan', 'NNP')]"
      ]
     },
     "execution_count": 6,
     "metadata": {},
     "output_type": "execute_result"
    }
   ],
   "source": [
    "#now we will do POS tagging which is necessory for named entity recognition\n",
    "tagged_words = nltk.pos_tag(words)\n",
    "tagged_words\n",
    "#now this is what we are going to pass in the function which is going to create that named entity"
   ]
  },
  {
   "cell_type": "code",
   "execution_count": 7,
   "id": "successful-seventh",
   "metadata": {},
   "outputs": [
    {
     "data": {
      "image/png": "[encoded data removed]",
      "text/plain": [
       "Tree('S', [('The', 'DT'), Tree('ORGANIZATION', [('Taj', 'NNP'), ('Mahal', 'NNP')]), ('was', 'VBD'), ('built', 'VBN'), ('by', 'IN'), Tree('PERSON', [('Emperor', 'NNP'), ('Shah', 'NNP'), ('Jahan', 'NNP')])])"
      ]
     },
     "execution_count": 7,
     "metadata": {},
     "output_type": "execute_result"
    }
   ],
   "source": [
    "namedEnt = nltk.ne_chunk(tagged_words)\n",
    "namedEnt"
   ]
  },
  {
   "cell_type": "code",
   "execution_count": 8,
   "id": "supreme-extreme",
   "metadata": {},
   "outputs": [
    {
     "name": "stdout",
     "output_type": "stream",
     "text": [
      "(S\n",
      "  The/DT\n",
      "  (ORGANIZATION Taj/NNP Mahal/NNP)\n",
      "  was/VBD\n",
      "  built/VBN\n",
      "  by/IN\n",
      "  (PERSON Emperor/NNP Shah/NNP Jahan/NNP))\n"
     ]
    }
   ],
   "source": [
    "print(namedEnt)"
   ]
  },
  {
   "cell_type": "code",
   "execution_count": 9,
   "id": "nervous-guest",
   "metadata": {},
   "outputs": [],
   "source": [
    "#note above you can see this is not a very good way to visualize it its in form tree,tree so we are going to call a \n",
    "#function in this named entity object \n",
    "namedEnt.draw()\n",
    "#so this will bring a popup where you can visualize the tree structure"
   ]
  }
 ],
 "metadata": {
  "kernelspec": {
   "display_name": "Python 3",
   "language": "python",
   "name": "python3"
  },
  "language_info": {
   "codemirror_mode": {
    "name": "ipython",
    "version": 3
   },
   "file_extension": ".py",
   "mimetype": "text/x-python",
   "name": "python",
   "nbconvert_exporter": "python",
   "pygments_lexer": "ipython3",
   "version": "3.8.6"
  }
 },
 "nbformat": 4,
 "nbformat_minor": 5
}
