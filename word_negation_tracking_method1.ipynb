{
 "cells": [
  {
   "cell_type": "code",
   "execution_count": 3,
   "id": "sapphire-sympathy",
   "metadata": {},
   "outputs": [],
   "source": [
    "import nltk"
   ]
  },
  {
   "cell_type": "code",
   "execution_count": 4,
   "id": "emerging-singer",
   "metadata": {},
   "outputs": [],
   "source": [
    "sentence = \"I was not happy with the team's performance\"  #note here not happy is the negation\n",
    "#if we remove not this sentence becomes positive from a negative sentence\n",
    "#in all the previous models i.e., bow, TF-IDF, etc we have not taken care of this negation we have considered it just\n",
    "#another word but these words i.e., this not and happy are not independent of each other i.e., together they frame a\n",
    "#meaning so we need to find a way by which we can combine these 2 words and get a word because it will improve\n",
    "#performance of our models\n",
    "#Two ways: - not_happy and unhappy (using context)"
   ]
  },
  {
   "cell_type": "code",
   "execution_count": 5,
   "id": "computational-eugene",
   "metadata": {},
   "outputs": [],
   "source": [
    "words = nltk.word_tokenize(sentence) #tokenizing sentence"
   ]
  },
  {
   "cell_type": "code",
   "execution_count": 6,
   "id": "packed-syracuse",
   "metadata": {},
   "outputs": [
    {
     "data": {
      "text/plain": [
       "\"I was not_happy with the team 's performance\""
      ]
     },
     "execution_count": 6,
     "metadata": {},
     "output_type": "execute_result"
    }
   ],
   "source": [
    "new_words = [] #this is going to contain all the different words of the modified sentence\n",
    "\n",
    "temp_word = \"\" #just a temorary word\n",
    "for word in words: #looping through all the words\n",
    "    if word == \"not\": #checking for negation\n",
    "        temp_word = \"not_\"\n",
    "    elif temp_word == \"not_\":\n",
    "        word = temp_word + word #not_happy\n",
    "        temp_word = \"\"\n",
    "    if word != \"not\":\n",
    "        new_words.append(word)\n",
    "        \n",
    "sentence = ' '.join(new_words)\n",
    "\n",
    "sentence"
   ]
  }
 ],
 "metadata": {
  "kernelspec": {
   "display_name": "Python 3",
   "language": "python",
   "name": "python3"
  },
  "language_info": {
   "codemirror_mode": {
    "name": "ipython",
    "version": 3
   },
   "file_extension": ".py",
   "mimetype": "text/x-python",
   "name": "python",
   "nbconvert_exporter": "python",
   "pygments_lexer": "ipython3",
   "version": "3.8.6"
  },
  "varInspector": {
   "cols": {
    "lenName": 16,
    "lenType": 16,
    "lenVar": 40
   },
   "kernels_config": {
    "python": {
     "delete_cmd_postfix": "",
     "delete_cmd_prefix": "del ",
     "library": "var_list.py",
     "varRefreshCmd": "print(var_dic_list())"
    },
    "r": {
     "delete_cmd_postfix": ") ",
     "delete_cmd_prefix": "rm(",
     "library": "var_list.r",
     "varRefreshCmd": "cat(var_dic_list()) "
    }
   },
   "types_to_exclude": [
    "module",
    "function",
    "builtin_function_or_method",
    "instance",
    "_Feature"
   ],
   "window_display": false
  }
 },
 "nbformat": 4,
 "nbformat_minor": 5
}
