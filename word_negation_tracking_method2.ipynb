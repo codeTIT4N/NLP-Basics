{
 "cells": [
  {
   "cell_type": "code",
   "execution_count": 1,
   "id": "mature-atmosphere",
   "metadata": {},
   "outputs": [],
   "source": [
    "#here we are going to use antonyms from previous lessons\n",
    "import nltk\n",
    "sentence = \"I was not happy with the team's performance\""
   ]
  },
  {
   "cell_type": "code",
   "execution_count": 3,
   "id": "systematic-builder",
   "metadata": {},
   "outputs": [],
   "source": [
    "words = nltk.word_tokenize(sentence) #tokenizing sentence"
   ]
  },
  {
   "cell_type": "code",
   "execution_count": 5,
   "id": "statewide-thirty",
   "metadata": {},
   "outputs": [],
   "source": [
    "from nltk.corpus import wordnet"
   ]
  },
  {
   "cell_type": "code",
   "execution_count": 7,
   "id": "productive-kuwait",
   "metadata": {},
   "outputs": [
    {
     "data": {
      "text/plain": [
       "\"I was unhappy with the team 's performance\""
      ]
     },
     "execution_count": 7,
     "metadata": {},
     "output_type": "execute_result"
    }
   ],
   "source": [
    "new_words = [] #this is going to contain all the different words of the modified sentence\n",
    "\n",
    "temp_word = \"\"\n",
    "for word in words:\n",
    "    antonyms = [] #for each of the different words we need to find antonyms\n",
    "    if word == \"not\":\n",
    "        temp_word = \"not_\"\n",
    "    elif temp_word == \"not_\":\n",
    "        for syn in wordnet.synsets(word): #finding antonym of a specific word\n",
    "            for s in syn.lemmas():\n",
    "                for a in s.antonyms(): \n",
    "                    antonyms.append(a.name())\n",
    "        if len(antonyms)>=1: #it could happen that for a specific word we don't have any antonyms\n",
    "            word = antonyms[0] #first antonym\n",
    "        else:\n",
    "            word = temp_word + word #if we can't change happy we any antonym then we will keep it like not_happy\n",
    "        temp_word = \"\"\n",
    "    if word != \"not\":\n",
    "        new_words.append(word)\n",
    "        \n",
    "sentence = ' '.join(new_words)\n",
    "\n",
    "sentence\n",
    "#as you can see not happy is changed with unhappy which will be more meaningful to our ml models"
   ]
  }
 ],
 "metadata": {
  "kernelspec": {
   "display_name": "Python 3",
   "language": "python",
   "name": "python3"
  },
  "language_info": {
   "codemirror_mode": {
    "name": "ipython",
    "version": 3
   },
   "file_extension": ".py",
   "mimetype": "text/x-python",
   "name": "python",
   "nbconvert_exporter": "python",
   "pygments_lexer": "ipython3",
   "version": "3.8.6"
  },
  "varInspector": {
   "cols": {
    "lenName": 16,
    "lenType": 16,
    "lenVar": 40
   },
   "kernels_config": {
    "python": {
     "delete_cmd_postfix": "",
     "delete_cmd_prefix": "del ",
     "library": "var_list.py",
     "varRefreshCmd": "print(var_dic_list())"
    },
    "r": {
     "delete_cmd_postfix": ") ",
     "delete_cmd_prefix": "rm(",
     "library": "var_list.r",
     "varRefreshCmd": "cat(var_dic_list()) "
    }
   },
   "types_to_exclude": [
    "module",
    "function",
    "builtin_function_or_method",
    "instance",
    "_Feature"
   ],
   "window_display": false
  }
 },
 "nbformat": 4,
 "nbformat_minor": 5
}
