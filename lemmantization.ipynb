{
 "cells": [
  {
   "cell_type": "code",
   "execution_count": 1,
   "id": "regulation-range",
   "metadata": {},
   "outputs": [],
   "source": [
    "import nltk"
   ]
  },
  {
   "cell_type": "code",
   "execution_count": 2,
   "id": "sharp-equilibrium",
   "metadata": {},
   "outputs": [
    {
     "name": "stdout",
     "output_type": "stream",
     "text": [
      "Thank you all so very much. Thank you to the Academy. Thank you to all of you in this room. \n",
      "I have to congratulate the other incredible nominees this year. The Revenant was the product of the tireless \n",
      "efforts of an unbelievable cast and crew. First off, to my brother in this endeavor, Mr. Tom Hardy. Tom, your \n",
      "talent on screen can only be surpassed by your friendship off screen … thank you for creating a transcendent \n",
      "cinematic experience. Thank you to everybody at Fox and New Regency … my entire team. I have to thank everyone \n",
      "from the very onset of my career … To my parents; none of this would be possible without you. And to my friends, \n",
      "I love you dearly; you know who you are.And lastly, I just want to say this: Making The Revenant was about man's \n",
      "relationship to the natural world. A world that we collectively felt in 2015 as the hottest year in recorded history. \n",
      "Our production needed to move to the southern tip of this planet just to be able to find snow. Climate change is real, \n",
      "it is happening right now. It is the most urgent threat facing our entire species, and we need to work collectively \n",
      "together and stop procrastinating. We need to support leaders around the world who do not speak for the big polluters,\n",
      "but who speak for all of humanity, for the indigenous people of the world, for the billions and billions of \n",
      "underprivileged people out there who would be most affected by this. For our children’s children, and for those \n",
      "people out there whose voices have been drowned out by the politics of greed. I thank you all for this amazing award \n",
      "tonight. Let us not take this planet for granted. I do not take tonight for granted. Thank you so very much.\n"
     ]
    }
   ],
   "source": [
    "paragraph = \"\"\"Thank you all so very much. Thank you to the Academy. Thank you to all of you in this room. \n",
    "I have to congratulate the other incredible nominees this year. The Revenant was the product of the tireless \n",
    "efforts of an unbelievable cast and crew. First off, to my brother in this endeavor, Mr. Tom Hardy. Tom, your \n",
    "talent on screen can only be surpassed by your friendship off screen … thank you for creating a transcendent \n",
    "cinematic experience. Thank you to everybody at Fox and New Regency … my entire team. I have to thank everyone \n",
    "from the very onset of my career … To my parents; none of this would be possible without you. And to my friends, \n",
    "I love you dearly; you know who you are.And lastly, I just want to say this: Making The Revenant was about man's \n",
    "relationship to the natural world. A world that we collectively felt in 2015 as the hottest year in recorded history. \n",
    "Our production needed to move to the southern tip of this planet just to be able to find snow. Climate change is real, \n",
    "it is happening right now. It is the most urgent threat facing our entire species, and we need to work collectively \n",
    "together and stop procrastinating. We need to support leaders around the world who do not speak for the big polluters,\n",
    "but who speak for all of humanity, for the indigenous people of the world, for the billions and billions of \n",
    "underprivileged people out there who would be most affected by this. For our children’s children, and for those \n",
    "people out there whose voices have been drowned out by the politics of greed. I thank you all for this amazing award \n",
    "tonight. Let us not take this planet for granted. I do not take tonight for granted. Thank you so very much.\"\"\"\n",
    "#note this is how you store multiline strings/ comments in python\n",
    "print(paragraph)"
   ]
  },
  {
   "cell_type": "code",
   "execution_count": 3,
   "id": "relevant-messenger",
   "metadata": {},
   "outputs": [],
   "source": [
    "#for lemmatization we need another class from nltk i.e., WordNetLemmatizer\n",
    "from nltk.stem import WordNetLemmatizer"
   ]
  },
  {
   "cell_type": "code",
   "execution_count": 5,
   "id": "friendly-marker",
   "metadata": {},
   "outputs": [
    {
     "data": {
      "text/plain": [
       "20"
      ]
     },
     "execution_count": 5,
     "metadata": {},
     "output_type": "execute_result"
    }
   ],
   "source": [
    "#step 1 tokenization\n",
    "sentences = nltk.sent_tokenize(paragraph)\n",
    "len(sentences)"
   ]
  },
  {
   "cell_type": "code",
   "execution_count": 7,
   "id": "innocent-shuttle",
   "metadata": {},
   "outputs": [
    {
     "data": {
      "text/plain": [
       "<WordNetLemmatizer>"
      ]
     },
     "execution_count": 7,
     "metadata": {},
     "output_type": "execute_result"
    }
   ],
   "source": [
    "#making object of the class\n",
    "lemmatizer = WordNetLemmatizer()\n",
    "lemmatizer"
   ]
  },
  {
   "cell_type": "code",
   "execution_count": 9,
   "id": "editorial-glass",
   "metadata": {},
   "outputs": [
    {
     "data": {
      "text/plain": [
       "['Thank you all so very much .',\n",
       " 'Thank you to the Academy .',\n",
       " 'Thank you to all of you in this room .',\n",
       " 'I have to congratulate the other incredible nominee this year .',\n",
       " 'The Revenant wa the product of the tireless effort of an unbelievable cast and crew .',\n",
       " 'First off , to my brother in this endeavor , Mr. Tom Hardy .',\n",
       " 'Tom , your talent on screen can only be surpassed by your friendship off screen … thank you for creating a transcendent cinematic experience .',\n",
       " 'Thank you to everybody at Fox and New Regency … my entire team .',\n",
       " 'I have to thank everyone from the very onset of my career … To my parent ; none of this would be possible without you .',\n",
       " \"And to my friend , I love you dearly ; you know who you are.And lastly , I just want to say this : Making The Revenant wa about man 's relationship to the natural world .\",\n",
       " 'A world that we collectively felt in 2015 a the hottest year in recorded history .',\n",
       " 'Our production needed to move to the southern tip of this planet just to be able to find snow .',\n",
       " 'Climate change is real , it is happening right now .',\n",
       " 'It is the most urgent threat facing our entire specie , and we need to work collectively together and stop procrastinating .',\n",
       " 'We need to support leader around the world who do not speak for the big polluter , but who speak for all of humanity , for the indigenous people of the world , for the billion and billion of underprivileged people out there who would be most affected by this .',\n",
       " 'For our child ’ s child , and for those people out there whose voice have been drowned out by the politics of greed .',\n",
       " 'I thank you all for this amazing award tonight .',\n",
       " 'Let u not take this planet for granted .',\n",
       " 'I do not take tonight for granted .',\n",
       " 'Thank you so very much .']"
      ]
     },
     "execution_count": 9,
     "metadata": {},
     "output_type": "execute_result"
    }
   ],
   "source": [
    "#Lemmatization\n",
    "for i in range(len(sentences)):\n",
    "    words = nltk.word_tokenize(sentences[i])\n",
    "    newwords = [lemmatizer.lemmatize(word) for word in words]\n",
    "    sentences[i] = ' '.join(newwords)\n",
    "    \n",
    "sentences"
   ]
  }
 ],
 "metadata": {
  "kernelspec": {
   "display_name": "Python 3",
   "language": "python",
   "name": "python3"
  },
  "language_info": {
   "codemirror_mode": {
    "name": "ipython",
    "version": 3
   },
   "file_extension": ".py",
   "mimetype": "text/x-python",
   "name": "python",
   "nbconvert_exporter": "python",
   "pygments_lexer": "ipython3",
   "version": "3.8.6"
  }
 },
 "nbformat": 4,
 "nbformat_minor": 5
}
