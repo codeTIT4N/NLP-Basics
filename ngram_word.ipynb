{
 "cells": [
  {
   "cell_type": "code",
   "execution_count": 1,
   "id": "typical-vietnamese",
   "metadata": {},
   "outputs": [],
   "source": [
    "import random\n",
    "\n",
    "text = \"\"\"Global warming or climate change has become a worldwide concern. It is gradually developing into an unprecedented environmental crisis evident in melting glaciers, changing weather patterns, rising sea levels, floods, cyclones and droughts. Global warming implies an increase in the average temperature of the Earth due to entrapment of greenhouse gases in the earth’s atmosphere.\"\"\"\n",
    "\n",
    "ngrams = {}"
   ]
  },
  {
   "cell_type": "code",
   "execution_count": 2,
   "id": "auburn-smile",
   "metadata": {},
   "outputs": [],
   "source": [
    "n=3"
   ]
  },
  {
   "cell_type": "code",
   "execution_count": 3,
   "id": "seven-porcelain",
   "metadata": {},
   "outputs": [],
   "source": [
    "import nltk #we are going to need this"
   ]
  },
  {
   "cell_type": "code",
   "execution_count": 4,
   "id": "herbal-bahamas",
   "metadata": {},
   "outputs": [
    {
     "name": "stdout",
     "output_type": "stream",
     "text": [
      "['Global', 'warming', 'or', 'climate', 'change', 'has', 'become', 'a', 'worldwide', 'concern', '.', 'It', 'is', 'gradually', 'developing', 'into', 'an', 'unprecedented', 'environmental', 'crisis', 'evident', 'in', 'melting', 'glaciers', ',', 'changing', 'weather', 'patterns', ',', 'rising', 'sea', 'levels', ',', 'floods', ',', 'cyclones', 'and', 'droughts', '.', 'Global', 'warming', 'implies', 'an', 'increase', 'in', 'the', 'average', 'temperature', 'of', 'the', 'Earth', 'due', 'to', 'entrapment', 'of', 'greenhouse', 'gases', 'in', 'the', 'earth', '’', 's', 'atmosphere', '.']\n"
     ]
    }
   ],
   "source": [
    "#for character based we could just loop through the text but when we are working with words then we can't do that\n",
    "#then we need an explicit list of words i.e., all the words that are contined in this text and we can loop through it\n",
    "words = nltk.word_tokenize(text) #we will get list of words this way\n",
    "print(words)"
   ]
  },
  {
   "cell_type": "code",
   "execution_count": 5,
   "id": "scientific-number",
   "metadata": {},
   "outputs": [
    {
     "name": "stdout",
     "output_type": "stream",
     "text": [
      "{'Global warming or': ['climate'], 'warming or climate': ['change'], 'or climate change': ['has'], 'climate change has': ['become'], 'change has become': ['a'], 'has become a': ['worldwide'], 'become a worldwide': ['concern'], 'a worldwide concern': ['.'], 'worldwide concern .': ['It'], 'concern . It': ['is'], '. It is': ['gradually'], 'It is gradually': ['developing'], 'is gradually developing': ['into'], 'gradually developing into': ['an'], 'developing into an': ['unprecedented'], 'into an unprecedented': ['environmental'], 'an unprecedented environmental': ['crisis'], 'unprecedented environmental crisis': ['evident'], 'environmental crisis evident': ['in'], 'crisis evident in': ['melting'], 'evident in melting': ['glaciers'], 'in melting glaciers': [','], 'melting glaciers ,': ['changing'], 'glaciers , changing': ['weather'], ', changing weather': ['patterns'], 'changing weather patterns': [','], 'weather patterns ,': ['rising'], 'patterns , rising': ['sea'], ', rising sea': ['levels'], 'rising sea levels': [','], 'sea levels ,': ['floods'], 'levels , floods': [','], ', floods ,': ['cyclones'], 'floods , cyclones': ['and'], ', cyclones and': ['droughts'], 'cyclones and droughts': ['.'], 'and droughts .': ['Global'], 'droughts . Global': ['warming'], '. Global warming': ['implies'], 'Global warming implies': ['an'], 'warming implies an': ['increase'], 'implies an increase': ['in'], 'an increase in': ['the'], 'increase in the': ['average'], 'in the average': ['temperature'], 'the average temperature': ['of'], 'average temperature of': ['the'], 'temperature of the': ['Earth'], 'of the Earth': ['due'], 'the Earth due': ['to'], 'Earth due to': ['entrapment'], 'due to entrapment': ['of'], 'to entrapment of': ['greenhouse'], 'entrapment of greenhouse': ['gases'], 'of greenhouse gases': ['in'], 'greenhouse gases in': ['the'], 'gases in the': ['earth'], 'in the earth': ['’'], 'the earth ’': ['s'], 'earth ’ s': ['atmosphere'], '’ s atmosphere': ['.']}\n"
     ]
    }
   ],
   "source": [
    "for i in range(len(words)-n): #going through list leaving the last n\n",
    "    gram = ' '.join(words[i:i+n]) #for words we have to do this\n",
    "    if gram not in ngrams.keys():\n",
    "        ngrams[gram]=[]\n",
    "    ngrams[gram].append(words[i+n])\n",
    "    \n",
    "print(ngrams)"
   ]
  },
  {
   "cell_type": "code",
   "execution_count": 6,
   "id": "sorted-arcade",
   "metadata": {},
   "outputs": [
    {
     "name": "stdout",
     "output_type": "stream",
     "text": [
      "Global warming or climate change has become a worldwide concern . It is gradually developing into an unprecedented environmental crisis evident in melting glaciers , changing weather patterns , rising sea levels ,\n"
     ]
    }
   ],
   "source": [
    "#Testing \n",
    "currentGram = ' '.join(words[0:n]) #joining first n words (starting point)\n",
    "result = currentGram\n",
    "for i in range(30):  #last time we built a string of 100 here we can't do that we have to specify no. of words (30)\n",
    "    if currentGram not in ngrams.keys():\n",
    "        break\n",
    "    possibilities = ngrams[currentGram] #this will give the list of words that will follow currentGram\n",
    "    nextItem = possibilities[random.randrange(len(possibilities))]\n",
    "    result += ' '+nextItem #when working with words different words have to be sperated by space\n",
    "    rwords = nltk.word_tokenize(result)\n",
    "    currentGram = ' '.join(rwords[len(rwords)-n:len(rwords)])\n",
    "    \n",
    "    \n",
    "print(result)\n",
    "#you can see how accurate it is almost 100 % this is because we have a very small text but if you do this in an\n",
    "#article of wikipedia you will see it is not that accurate to make it more accurate you have to increase the n value"
   ]
  }
 ],
 "metadata": {
  "kernelspec": {
   "display_name": "Python 3",
   "language": "python",
   "name": "python3"
  },
  "language_info": {
   "codemirror_mode": {
    "name": "ipython",
    "version": 3
   },
   "file_extension": ".py",
   "mimetype": "text/x-python",
   "name": "python",
   "nbconvert_exporter": "python",
   "pygments_lexer": "ipython3",
   "version": "3.8.6"
  },
  "varInspector": {
   "cols": {
    "lenName": 16,
    "lenType": 16,
    "lenVar": 40
   },
   "kernels_config": {
    "python": {
     "delete_cmd_postfix": "",
     "delete_cmd_prefix": "del ",
     "library": "var_list.py",
     "varRefreshCmd": "print(var_dic_list())"
    },
    "r": {
     "delete_cmd_postfix": ") ",
     "delete_cmd_prefix": "rm(",
     "library": "var_list.r",
     "varRefreshCmd": "cat(var_dic_list()) "
    }
   },
   "types_to_exclude": [
    "module",
    "function",
    "builtin_function_or_method",
    "instance",
    "_Feature"
   ],
   "window_display": false
  }
 },
 "nbformat": 4,
 "nbformat_minor": 5
}
